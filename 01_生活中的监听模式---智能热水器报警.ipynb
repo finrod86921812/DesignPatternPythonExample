{
 "cells": [
  {
   "cell_type": "markdown",
   "metadata": {},
   "source": [
    "## 故事描述  \n",
    "智能热水器：水烧好了发一个警报，可以直接去洗操。还要能自己设定模式，既可以烧开了用来喝，可以烧暖了用来洗澡……  \n",
    "如：水烧到50-70度时，会发出警告：可以用来洗澡了；烧到100度也会发出警告：可以用来喝了。"
   ]
  },
  {
   "cell_type": "markdown",
   "metadata": {},
   "source": [
    "## V1"
   ]
  },
  {
   "cell_type": "code",
   "execution_count": 1,
   "metadata": {},
   "outputs": [],
   "source": [
    "# 代码实现\n",
    "class WaterHeater:\n",
    "    \"热水器：战胜寒冬的有利武器\"\n",
    "\n",
    "    def __init__(self):\n",
    "        self.__observers = []\n",
    "        self.__temperature = 25\n",
    "\n",
    "    def getTemperature(self):\n",
    "        return self.__temperature\n",
    "\n",
    "    def setTemperature(self, temperature):\n",
    "        self.__temperature = temperature\n",
    "        print(\"current temperature is:\", self.__temperature)\n",
    "        self.notifies()\n",
    "\n",
    "    def addObserver(self, observer):\n",
    "        self.__observers.append(observer)\n",
    "\n",
    "    def notifies(self):\n",
    "        for o in self.__observers:\n",
    "            o.update(self)\n",
    "\n",
    "\n",
    "class Observer:\n",
    "    \"洗澡模式和饮用模式的父类\"\n",
    "\n",
    "    def update(self, waterHeater):\n",
    "        pass\n",
    "\n",
    "\n",
    "class WashingMode(Observer):\n",
    "    \"该模式用于洗澡用\"\n",
    "\n",
    "    def update(self, waterHeater):\n",
    "        if waterHeater.getTemperature() >= 50 and waterHeater.getTemperature() < 70:\n",
    "            print(\"水已烧好，温度正好！可以用来洗澡了。\")\n",
    "\n",
    "\n",
    "class DrinkingMode(Observer):\n",
    "    \"该模式用于饮用\"\n",
    "\n",
    "    def update(self, waterHeater):\n",
    "        if waterHeater.getTemperature() >= 100:\n",
    "            print(\"水已烧开！可以用来饮用了。\")"
   ]
  },
  {
   "cell_type": "code",
   "execution_count": 2,
   "metadata": {},
   "outputs": [
    {
     "name": "stdout",
     "output_type": "stream",
     "text": [
      "current temperature is: 40\n",
      "current temperature is: 60\n",
      "水已烧好，温度正好！可以用来洗澡了。\n",
      "current temperature is: 100\n",
      "水已烧开！可以用来饮用了。\n"
     ]
    }
   ],
   "source": [
    "# 测试代码\n",
    "def testWaterHeater():\n",
    "    heater = WaterHeater()\n",
    "    washingObser = WashingMode()\n",
    "    drinkingObser = DrinkingMode()\n",
    "    heater.addObserver(washingObser)\n",
    "    heater.addObserver(drinkingObser)\n",
    "    heater.setTemperature(40)\n",
    "    heater.setTemperature(60)\n",
    "    heater.setTemperature(100)\n",
    "    \n",
    "testWaterHeater()"
   ]
  },
  {
   "cell_type": "code",
   "execution_count": null,
   "metadata": {},
   "outputs": [],
   "source": []
  },
  {
   "cell_type": "markdown",
   "metadata": {},
   "source": [
    "## V2"
   ]
  },
  {
   "cell_type": "code",
   "execution_count": 3,
   "metadata": {},
   "outputs": [],
   "source": [
    "class Observer:\n",
    "    \"观察者的基类\"\n",
    "\n",
    "    def update(self, observer, object):\n",
    "        pass\n",
    "\n",
    "\n",
    "class Observable:\n",
    "    \"被观察者的基类\"\n",
    "\n",
    "    def __init__(self):\n",
    "        self.__observers = []\n",
    "\n",
    "    def addObserver(self, observer):\n",
    "        self.__observers.append(observer)\n",
    "\n",
    "    def removeObserver(self, observer):\n",
    "        self.__observers.remove(observer)\n",
    "\n",
    "    def notifyObservers(self, object = 0):\n",
    "        for o in self.__observers:\n",
    "            o.update(self, object)"
   ]
  },
  {
   "cell_type": "code",
   "execution_count": 4,
   "metadata": {},
   "outputs": [],
   "source": [
    "class WaterHeater(Observable):\n",
    "    \"热水器：战胜寒冬的有利武器\"\n",
    "\n",
    "    def __init__(self):\n",
    "        super().__init__()\n",
    "        self.__temperature = 25\n",
    "\n",
    "    def getTemperature(self):\n",
    "        return self.__temperature\n",
    "\n",
    "    def setTemperature(self, temperature):\n",
    "        self.__temperature = temperature\n",
    "        print(\"current temperature is:\", self.__temperature)\n",
    "        self.notifyObservers()\n",
    "\n",
    "\n",
    "class WashingMode(Observer):\n",
    "    \"该模式用于洗澡用\"\n",
    "\n",
    "    def update(self, observable, object):\n",
    "        if isinstance(observable,\n",
    "                      WaterHeater) and observable.getTemperature() >= 50 and observable.getTemperature() < 70:\n",
    "            print(\"水已烧好，温度正好！可以用来洗澡了。\")\n",
    "\n",
    "\n",
    "class DrinkingMode(Observer):\n",
    "    \"该模式用于饮用\"\n",
    "\n",
    "    def update(self, observable, object):\n",
    "        if isinstance(observable, WaterHeater) and observable.getTemperature() >= 100:\n",
    "            print(\"水已烧开！可以用来饮用了。\")"
   ]
  },
  {
   "cell_type": "code",
   "execution_count": 5,
   "metadata": {},
   "outputs": [
    {
     "name": "stdout",
     "output_type": "stream",
     "text": [
      "current temperature is: 40\n",
      "current temperature is: 60\n",
      "水已烧好，温度正好！可以用来洗澡了。\n",
      "current temperature is: 100\n",
      "水已烧开！可以用来饮用了。\n"
     ]
    }
   ],
   "source": [
    "# 测试代码\n",
    "def testWaterHeater():\n",
    "    heater = WaterHeater()\n",
    "    washingObser = WashingMode()\n",
    "    drinkingObser = DrinkingMode()\n",
    "    heater.addObserver(washingObser)\n",
    "    heater.addObserver(drinkingObser)\n",
    "    heater.setTemperature(40)\n",
    "    heater.setTemperature(60)\n",
    "    heater.setTemperature(100)\n",
    "    \n",
    "testWaterHeater()"
   ]
  },
  {
   "cell_type": "markdown",
   "metadata": {},
   "source": [
    "## 设计要点\n",
    "\n",
    "1. 要明确谁是观察者谁是被观察者，只要明白谁是关注对象，问题也就明白了。一般观察者与被观察者之间是多对一的关系，一个被观察对象可以有多个监听对象(观察者)。如一个编辑框，有鼠标点击的监听者，也有键盘的监听者，还有内容改变的监听者。\n",
    "2. Observable 在发送广播通知的时候，无须指定具体的 Observer，Observer 可以自己决定是否要订阅 Subject 的通知。\n",
    "3. 被观察者至少需要有三个方法：添加监听者、移除监听者、通知 Observer 的方法；观察者至少要有一个方法：更新方法，更新当前的内容，作出相应的处理。\n",
    "4. 添加监听者、移除监听者在不同的模型称谓中可能会有不同命名，如观察者模型中一般，addObserver，removeObserver；在源-监听器（Source/Listener）模型中一般是 attach/detach，应用在桌面编程的窗口中，还可能是 attachWindow/detachWindow，或 Register/UnRegister。不不管他们是什么名称，其实功能都是一样的，就是添加/删除观察者。\n"
   ]
  },
  {
   "cell_type": "markdown",
   "metadata": {},
   "source": [
    "## 推模型和拉模型\n",
    "- **推模型**  \n",
    "    被观察者对象向观察者推送主题的详细信息，不管观察者是否需要，推送的信息通常是主题对象的全部或部分数据。一般这种模型的实现中，会把被观察者对象中的全部或部分信息通过 update 的参数传递给观察者 [update(Object obj) ，通过 obj 参数传递]。  \n",
    "- **拉模型**  \n",
    "    被观察者在通知观察者的时候，只传递少量信息。如果观察者需要更具体的信息，由观察者主动到被观察者对象中获取，相当于是观察者从被观察者对象中拉数据。一般这种模型的实现中，会把被观察者对象自身通过 update 方法传递给观察者 [update(Observable observable )，通过 observable 参数传递 ]，这样在观察者需要获取数据的时候，就可以通过这个引用来获取了。\n"
   ]
  },
  {
   "cell_type": "markdown",
   "metadata": {},
   "source": [
    "## 应用场景\n",
    "1. 对一个对象状态或数据的更新需要其他对象同步更新，或者一个对象的更新需要依赖另一个对象的更新；\n",
    "2. 对象仅需要将自己的更新通知给其他对象而不需要知道其他对象的细节，如消息推送。\n"
   ]
  },
  {
   "cell_type": "code",
   "execution_count": null,
   "metadata": {},
   "outputs": [],
   "source": []
  }
 ],
 "metadata": {
  "kernelspec": {
   "display_name": "Python 3",
   "language": "python",
   "name": "python3"
  },
  "language_info": {
   "codemirror_mode": {
    "name": "ipython",
    "version": 3
   },
   "file_extension": ".py",
   "mimetype": "text/x-python",
   "name": "python",
   "nbconvert_exporter": "python",
   "pygments_lexer": "ipython3",
   "version": "3.7.1"
  }
 },
 "nbformat": 4,
 "nbformat_minor": 2
}
